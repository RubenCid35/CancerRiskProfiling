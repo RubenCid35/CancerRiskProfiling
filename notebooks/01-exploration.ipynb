{
 "cells": [
  {
   "cell_type": "code",
   "execution_count": 1,
   "metadata": {},
   "outputs": [],
   "source": [
    "import pandas as pd\n",
    "import numpy as np\n",
    "import json\n",
    "\n",
    "import matplotlib.pyplot as plt\n",
    "import seaborn as sns\n",
    "\n",
    "import scipy.stats as st\n",
    "import statsmodels.stats.api as stats\n",
    "import statsmodels.formula.api as smf\n",
    "\n",
    "from sksurv.nonparametric import kaplan_meier_estimator\n",
    "\n",
    "from warnings import simplefilter, warn\n",
    "simplefilter('ignore', category=UserWarning)\n",
    "\n",
    "import os\n",
    "from dotenv import load_dotenv; load_dotenv('../.env')\n",
    "from mysql.connector import connect"
   ]
  },
  {
   "cell_type": "markdown",
   "metadata": {},
   "source": [
    "# Datos de Paciente\n"
   ]
  },
  {
   "cell_type": "code",
   "execution_count": 2,
   "metadata": {},
   "outputs": [
    {
     "name": "stdout",
     "output_type": "stream",
     "text": [
      "Dimensión de Conjunto 1:  7500\n",
      "Dimensión de Conjunto 2:  3000\n"
     ]
    },
    {
     "data": {
      "text/html": [
       "<div>\n",
       "<style scoped>\n",
       "    .dataframe tbody tr th:only-of-type {\n",
       "        vertical-align: middle;\n",
       "    }\n",
       "\n",
       "    .dataframe tbody tr th {\n",
       "        vertical-align: top;\n",
       "    }\n",
       "\n",
       "    .dataframe thead th {\n",
       "        text-align: right;\n",
       "    }\n",
       "</style>\n",
       "<table border=\"1\" class=\"dataframe\">\n",
       "  <thead>\n",
       "    <tr style=\"text-align: right;\">\n",
       "      <th></th>\n",
       "      <th>ehr</th>\n",
       "      <th>birth_date</th>\n",
       "      <th>diagnosis_date</th>\n",
       "      <th>death_date</th>\n",
       "    </tr>\n",
       "  </thead>\n",
       "  <tbody>\n",
       "    <tr>\n",
       "      <th>0</th>\n",
       "      <td>10011773</td>\n",
       "      <td>1959-07-05</td>\n",
       "      <td>2015-04-02</td>\n",
       "      <td>NaT</td>\n",
       "    </tr>\n",
       "    <tr>\n",
       "      <th>1</th>\n",
       "      <td>10020495</td>\n",
       "      <td>1953-10-02</td>\n",
       "      <td>2017-12-04</td>\n",
       "      <td>NaT</td>\n",
       "    </tr>\n",
       "    <tr>\n",
       "      <th>2</th>\n",
       "      <td>10030299</td>\n",
       "      <td>1966-08-16</td>\n",
       "      <td>2019-06-27</td>\n",
       "      <td>NaT</td>\n",
       "    </tr>\n",
       "    <tr>\n",
       "      <th>3</th>\n",
       "      <td>10030824</td>\n",
       "      <td>1953-03-03</td>\n",
       "      <td>2018-09-07</td>\n",
       "      <td>NaT</td>\n",
       "    </tr>\n",
       "    <tr>\n",
       "      <th>4</th>\n",
       "      <td>10041592</td>\n",
       "      <td>1959-07-06</td>\n",
       "      <td>2018-11-19</td>\n",
       "      <td>NaT</td>\n",
       "    </tr>\n",
       "  </tbody>\n",
       "</table>\n",
       "</div>"
      ],
      "text/plain": [
       "        ehr birth_date diagnosis_date death_date\n",
       "0  10011773 1959-07-05     2015-04-02        NaT\n",
       "1  10020495 1953-10-02     2017-12-04        NaT\n",
       "2  10030299 1966-08-16     2019-06-27        NaT\n",
       "3  10030824 1953-03-03     2018-09-07        NaT\n",
       "4  10041592 1959-07-06     2018-11-19        NaT"
      ]
     },
     "metadata": {},
     "output_type": "display_data"
    }
   ],
   "source": [
    "pat1 = pd.read_csv('../data/raw/patients_batch1.csv', parse_dates = ['birth_date', 'diagnosis_date', 'death_date'])\n",
    "pat2 = pd.read_csv('../data/raw/patients_batch2.csv', parse_dates = ['birth_date', 'diagnosis_date', 'death_date'])\n",
    "print(\"Dimensión de Conjunto 1: \", pat1.shape[0])\n",
    "print(\"Dimensión de Conjunto 2: \", pat2.shape[0])\n",
    "display(pat1.head())\n"
   ]
  },
  {
   "cell_type": "code",
   "execution_count": 3,
   "metadata": {},
   "outputs": [
    {
     "data": {
      "text/html": [
       "<div>\n",
       "<style scoped>\n",
       "    .dataframe tbody tr th:only-of-type {\n",
       "        vertical-align: middle;\n",
       "    }\n",
       "\n",
       "    .dataframe tbody tr th {\n",
       "        vertical-align: top;\n",
       "    }\n",
       "\n",
       "    .dataframe thead th {\n",
       "        text-align: right;\n",
       "    }\n",
       "</style>\n",
       "<table border=\"1\" class=\"dataframe\">\n",
       "  <thead>\n",
       "    <tr style=\"text-align: right;\">\n",
       "      <th></th>\n",
       "      <th>ehr</th>\n",
       "      <th>is_alive</th>\n",
       "      <th>age</th>\n",
       "      <th>diag_dur</th>\n",
       "      <th>diag_age</th>\n",
       "      <th>age_bin</th>\n",
       "    </tr>\n",
       "  </thead>\n",
       "  <tbody>\n",
       "    <tr>\n",
       "      <th>0</th>\n",
       "      <td>72992494</td>\n",
       "      <td>True</td>\n",
       "      <td>81</td>\n",
       "      <td>64</td>\n",
       "      <td>17</td>\n",
       "      <td>Senior +</td>\n",
       "    </tr>\n",
       "    <tr>\n",
       "      <th>1</th>\n",
       "      <td>73002338</td>\n",
       "      <td>True</td>\n",
       "      <td>74</td>\n",
       "      <td>64</td>\n",
       "      <td>10</td>\n",
       "      <td>Senior +</td>\n",
       "    </tr>\n",
       "    <tr>\n",
       "      <th>2</th>\n",
       "      <td>73008149</td>\n",
       "      <td>True</td>\n",
       "      <td>54</td>\n",
       "      <td>60</td>\n",
       "      <td>-6</td>\n",
       "      <td>Senior</td>\n",
       "    </tr>\n",
       "    <tr>\n",
       "      <th>3</th>\n",
       "      <td>73012939</td>\n",
       "      <td>False</td>\n",
       "      <td>50</td>\n",
       "      <td>44</td>\n",
       "      <td>6</td>\n",
       "      <td>Senior</td>\n",
       "    </tr>\n",
       "    <tr>\n",
       "      <th>4</th>\n",
       "      <td>73019870</td>\n",
       "      <td>True</td>\n",
       "      <td>68</td>\n",
       "      <td>67</td>\n",
       "      <td>1</td>\n",
       "      <td>Senior +</td>\n",
       "    </tr>\n",
       "  </tbody>\n",
       "</table>\n",
       "</div>"
      ],
      "text/plain": [
       "        ehr  is_alive  age  diag_dur  diag_age   age_bin\n",
       "0  72992494      True   81        64        17  Senior +\n",
       "1  73002338      True   74        64        10  Senior +\n",
       "2  73008149      True   54        60        -6    Senior\n",
       "3  73012939     False   50        44         6    Senior\n",
       "4  73019870      True   68        67         1  Senior +"
      ]
     },
     "execution_count": 3,
     "metadata": {},
     "output_type": "execute_result"
    }
   ],
   "source": [
    "def preprocess_patients(pat, check_filter: bool = False):\n",
    "    \"\"\"\n",
    "    Preprocesado de los Pacientes. Añade columnas, elimina / imputa nulos.\n",
    "    \"\"\"\n",
    "\n",
    "    YEAR  = 365.24\n",
    "    MONTH =  30.437\n",
    "\n",
    "    pat = pat.copy()\n",
    "    now = pd.Timestamp.now()\n",
    "\n",
    "    pat['is_alive']   = pat['death_date'].isna()\n",
    "    pat['age']   = ((now - pat['birth_date']).dt.days / YEAR).astype(int)\n",
    "    if check_filter: assert all(pat['age'] > 0), \"Hay personas con nacidas en el fúturo. Fecha de nacimiento superior a fecha actual\"\n",
    "    else:\n",
    "        mask1 = pat['age'] < 0\n",
    "        if any(mask1): \n",
    "            n_dates = sum(mask1)\n",
    "            warn(f\"Hay {n_dates: 5d} personas con nacidas en el fúturo. Fecha de nacimiento superior a fecha actual. Se han eliminado. Limpiando linea temporal\")\n",
    "            \n",
    "        pat = pat[~mask1]\n",
    "    # Comprobations\n",
    "    pat['diag_dur']   = ((pat['death_date'] - pat['diagnosis_date']).dt.days / MONTH)\n",
    "    pat['diag_dur']   = pat['diag_dur'].fillna(((now - pat['diagnosis_date']).dt.days / MONTH))\n",
    "    pat['diag_dur']   = pat['diag_dur'].astype(int)\n",
    "\n",
    "    if check_filter: assert all(pat['diag_dur'] > 0), \"Hay diagnosticos realizados antes de la fecha de muerte\"\n",
    "    else:\n",
    "        mask1 = pat['diag_dur'] < 0\n",
    "        if any(mask1): \n",
    "            n_dates = sum(mask1)\n",
    "            warn(f\"Hay {n_dates: 5d} diagnosticos realizados antes de la fecha de muerte. Se han eliminado\")\n",
    "            \n",
    "        pat = pat[~mask1]\n",
    "\n",
    "    pat['diag_age']   = pat['age'] - pat['diag_dur']\n",
    "\n",
    "    # Discretizar la Edad\n",
    "    age_bins = [0, 12, 18, 35, 50, 65, 85, 100]\n",
    "    age_labels = ['Child', 'Teenager', 'Adult', 'Adult +', 'Senior', 'Senior +', 'Senior ++']\n",
    "\n",
    "    pat['age_bin'] = pd.cut(pat['age'], bins = age_bins, labels = age_labels, right = False)\n",
    "    \n",
    "    # Limpieza de Variables\n",
    "    pat = pat.drop(columns = ['birth_date', 'diagnosis_date', 'death_date'])\n",
    "    return pat\n",
    "# Extra variable\n",
    "dpat1 = preprocess_patients(pat1, check_filter=False)\n",
    "dpat2 = preprocess_patients(pat2, check_filter=False)\n",
    "\n",
    "dpat = pd.concat([dpat1, dpat2], axis = 0)\n",
    "\n",
    "dpat2.head()"
   ]
  },
  {
   "cell_type": "code",
   "execution_count": 4,
   "metadata": {},
   "outputs": [
    {
     "data": {
      "image/png": "[encoded data removed]",
      "text/plain": [
       "<Figure size 640x480 with 1 Axes>"
      ]
     },
     "metadata": {},
     "output_type": "display_data"
    }
   ],
   "source": [
    "sns.histplot(data = dpat1, x = \"age\", bins = 10, color='blue'  , label = \"Conjunto 1\")\n",
    "sns.histplot(data = dpat2, x = \"age\", bins = 10, color='orange', label = \"Cobjunto 2\")\n",
    "plt.legend()\n",
    "plt.show()\n"
   ]
  },
  {
   "cell_type": "code",
   "execution_count": 15,
   "metadata": {},
   "outputs": [
    {
     "data": {
      "image/png": "[encoded data removed]",
      "text/plain": [
       "<Figure size 1200x500 with 2 Axes>"
      ]
     },
     "metadata": {},
     "output_type": "display_data"
    }
   ],
   "source": [
    "_, ax = plt.subplots(1, 2, figsize = (12, 5))\n",
    "ax[0].set_title(\"Todos los Datos\")\n",
    "sns.countplot(data = dpat,  x = 'age_bin', hue = 'is_alive', stat = 'proportion', ax = ax[0])\n",
    "sns.countplot(data = dpat1, x = 'age_bin', stat = 'proportion', ax = ax[1], color = \"blue\"  , label = \"Conjunto 1\")\n",
    "sns.countplot(data = dpat2, x = 'age_bin', stat = 'proportion', ax = ax[1], color = \"orange\", alpha = 0.5, label = \"Conjunto 2\")\n",
    "ax[1].legend()\n",
    "ax[1].set_title(\"Por Conjunto Vivo o Muerto\")\n",
    "plt.show()"
   ]
  },
  {
   "cell_type": "code",
   "execution_count": 26,
   "metadata": {},
   "outputs": [
    {
     "name": "stdout",
     "output_type": "stream",
     "text": [
      "T:  216.6426\t P-Value:  9.89e-46\n",
      "H0: P(T| Alive) y P(T| Dead) son independientes.\n",
      "Expected Observations\n"
     ]
    },
    {
     "data": {
      "text/html": [
       "<div>\n",
       "<style scoped>\n",
       "    .dataframe tbody tr th:only-of-type {\n",
       "        vertical-align: middle;\n",
       "    }\n",
       "\n",
       "    .dataframe tbody tr th {\n",
       "        vertical-align: top;\n",
       "    }\n",
       "\n",
       "    .dataframe thead th {\n",
       "        text-align: right;\n",
       "    }\n",
       "</style>\n",
       "<table border=\"1\" class=\"dataframe\">\n",
       "  <thead>\n",
       "    <tr style=\"text-align: right;\">\n",
       "      <th>age_bin</th>\n",
       "      <th>Adult</th>\n",
       "      <th>Adult +</th>\n",
       "      <th>Senior</th>\n",
       "      <th>Senior +</th>\n",
       "      <th>Senior ++</th>\n",
       "    </tr>\n",
       "    <tr>\n",
       "      <th>is_alive</th>\n",
       "      <th></th>\n",
       "      <th></th>\n",
       "      <th></th>\n",
       "      <th></th>\n",
       "      <th></th>\n",
       "    </tr>\n",
       "  </thead>\n",
       "  <tbody>\n",
       "    <tr>\n",
       "      <th>False</th>\n",
       "      <td>3.0</td>\n",
       "      <td>101.7</td>\n",
       "      <td>546.9</td>\n",
       "      <td>489.0</td>\n",
       "      <td>18.4</td>\n",
       "    </tr>\n",
       "    <tr>\n",
       "      <th>True</th>\n",
       "      <td>24.0</td>\n",
       "      <td>813.3</td>\n",
       "      <td>4375.1</td>\n",
       "      <td>3912.0</td>\n",
       "      <td>147.6</td>\n",
       "    </tr>\n",
       "  </tbody>\n",
       "</table>\n",
       "</div>"
      ],
      "text/plain": [
       "age_bin   Adult  Adult +  Senior  Senior +  Senior ++\n",
       "is_alive                                             \n",
       "False       3.0    101.7   546.9     489.0       18.4\n",
       "True       24.0    813.3  4375.1    3912.0      147.6"
      ]
     },
     "execution_count": 26,
     "metadata": {},
     "output_type": "execute_result"
    }
   ],
   "source": [
    "ct = pd.crosstab(dpat['is_alive'], dpat['age_bin'])\n",
    "t, pvalue, freedom, expected = st.chi2_contingency(ct, correction = False)\n",
    "\n",
    "print(f\"T: {t: 7.4f}\\t P-Value: {pvalue: .3g}\")\n",
    "print(\"H0: P(T| Alive) y P(T| Dead) son independientes.\")\n",
    "print(f\"Expected Observations\")\n",
    "pd.DataFrame(expected, index = ct.index, columns = ct.columns).round(1)"
   ]
  },
  {
   "cell_type": "code",
   "execution_count": 6,
   "metadata": {},
   "outputs": [
    {
     "name": "stdout",
     "output_type": "stream",
     "text": [
      "499\n"
     ]
    },
    {
     "data": {
      "image/png": "[encoded data removed]",
      "text/plain": [
       "<Figure size 1200x500 with 2 Axes>"
      ]
     },
     "metadata": {},
     "output_type": "display_data"
    }
   ],
   "source": [
    "_, ax = plt.subplots(1, 2, figsize = (12, 5), sharey = True)\n",
    "print(dpat['ehr'].duplicated().sum())\n",
    "\n",
    "x, y, conf = kaplan_meier_estimator(np.logical_not(dpat['is_alive'].values), time_exit = dpat['diag_dur'], conf_type = 'log-log')\n",
    "ax[0].step(x, y, where = \"post\", label = \"curva\")\n",
    "ax[0].fill_between(x, conf[0], conf[1], alpha = 0.25, step = \"post\", label = \"intervalo de confianza\")\n",
    "ax[0].set_ylim(0, 1)\n",
    "ax[0].set_xlabel(\"Time (Years)\")\n",
    "ax[0].set_ylabel(\"Probabilidad de Supervivencia\")\n",
    "ax[0].set_title(\"Todos los Datos\")\n",
    "ax[0].legend()\n",
    "\n",
    "x, y, conf = kaplan_meier_estimator(np.logical_not(dpat1['is_alive'].values), time_exit = dpat1['diag_dur'], conf_type = 'log-log')\n",
    "ax[1].step(x, y, where = \"post\", label = \"Conjunto 1\", color = 'blue')\n",
    "ax[1].fill_between(x, conf[0], conf[1], alpha = 0.25, step = \"post\", color = \"blue\")\n",
    "\n",
    "x, y, conf = kaplan_meier_estimator(np.logical_not(dpat2['is_alive'].values), time_exit = dpat2['diag_dur'], conf_type = 'log-log')\n",
    "ax[1].step(x, y, where = \"post\", label = \"Conjunto 2\", color = \"orange\")\n",
    "ax[1].fill_between(x, conf[0], conf[1], alpha = 0.5, step = \"post\" ,color = 'orange')\n",
    "\n",
    "ax[1].set_ylim(0, 1)\n",
    "ax[1].set_xlabel(\"Time (Months)\")\n",
    "\n",
    "ax[1].set_title(\"Por Conjunto de Datos\")\n",
    "ax[1].legend(title = \"Datos\")\n",
    "\n",
    "plt.suptitle(\"Estimador de Curva de Supervivencia (Evento == Defunción / Muerte)\")\n",
    "plt.show()"
   ]
  },
  {
   "cell_type": "markdown",
   "metadata": {},
   "source": [
    "# Datos Ginecológicos"
   ]
  },
  {
   "cell_type": "code",
   "execution_count": 7,
   "metadata": {},
   "outputs": [
    {
     "name": "stdout",
     "output_type": "stream",
     "text": [
      "Dimensión Datos Ginecológicos: 7686\n"
     ]
    },
    {
     "data": {
      "text/html": [
       "<div>\n",
       "<style scoped>\n",
       "    .dataframe tbody tr th:only-of-type {\n",
       "        vertical-align: middle;\n",
       "    }\n",
       "\n",
       "    .dataframe tbody tr th {\n",
       "        vertical-align: top;\n",
       "    }\n",
       "\n",
       "    .dataframe thead th {\n",
       "        text-align: right;\n",
       "    }\n",
       "</style>\n",
       "<table border=\"1\" class=\"dataframe\">\n",
       "  <thead>\n",
       "    <tr style=\"text-align: right;\">\n",
       "      <th></th>\n",
       "      <th>ehr</th>\n",
       "      <th>pregnancy</th>\n",
       "      <th>birth</th>\n",
       "      <th>caesarean</th>\n",
       "      <th>abort</th>\n",
       "      <th>menarche_age</th>\n",
       "      <th>menopause_age</th>\n",
       "    </tr>\n",
       "  </thead>\n",
       "  <tbody>\n",
       "    <tr>\n",
       "      <th>0</th>\n",
       "      <td>10011773</td>\n",
       "      <td>-8.0</td>\n",
       "      <td>0.0</td>\n",
       "      <td>NaN</td>\n",
       "      <td>0.0</td>\n",
       "      <td>NaN</td>\n",
       "      <td>71.0</td>\n",
       "    </tr>\n",
       "    <tr>\n",
       "      <th>1</th>\n",
       "      <td>10030299</td>\n",
       "      <td>3.0</td>\n",
       "      <td>NaN</td>\n",
       "      <td>0.0</td>\n",
       "      <td>0.0</td>\n",
       "      <td>NaN</td>\n",
       "      <td>NaN</td>\n",
       "    </tr>\n",
       "    <tr>\n",
       "      <th>2</th>\n",
       "      <td>10030824</td>\n",
       "      <td>0.0</td>\n",
       "      <td>0.0</td>\n",
       "      <td>0.0</td>\n",
       "      <td>NaN</td>\n",
       "      <td>NaN</td>\n",
       "      <td>44.0</td>\n",
       "    </tr>\n",
       "    <tr>\n",
       "      <th>3</th>\n",
       "      <td>10053435</td>\n",
       "      <td>2.0</td>\n",
       "      <td>NaN</td>\n",
       "      <td>0.0</td>\n",
       "      <td>1.0</td>\n",
       "      <td>21.0</td>\n",
       "      <td>74.0</td>\n",
       "    </tr>\n",
       "    <tr>\n",
       "      <th>4</th>\n",
       "      <td>10111454</td>\n",
       "      <td>0.0</td>\n",
       "      <td>-6.0</td>\n",
       "      <td>NaN</td>\n",
       "      <td>0.0</td>\n",
       "      <td>16.0</td>\n",
       "      <td>55.0</td>\n",
       "    </tr>\n",
       "    <tr>\n",
       "      <th>5</th>\n",
       "      <td>10115313</td>\n",
       "      <td>2.0</td>\n",
       "      <td>0.0</td>\n",
       "      <td>0.0</td>\n",
       "      <td>2.0</td>\n",
       "      <td>18.0</td>\n",
       "      <td>44.0</td>\n",
       "    </tr>\n",
       "    <tr>\n",
       "      <th>6</th>\n",
       "      <td>10119160</td>\n",
       "      <td>1.0</td>\n",
       "      <td>1.0</td>\n",
       "      <td>0.0</td>\n",
       "      <td>0.0</td>\n",
       "      <td>15.0</td>\n",
       "      <td>48.0</td>\n",
       "    </tr>\n",
       "    <tr>\n",
       "      <th>7</th>\n",
       "      <td>10128601</td>\n",
       "      <td>3.0</td>\n",
       "      <td>NaN</td>\n",
       "      <td>0.0</td>\n",
       "      <td>0.0</td>\n",
       "      <td>14.0</td>\n",
       "      <td>53.0</td>\n",
       "    </tr>\n",
       "    <tr>\n",
       "      <th>8</th>\n",
       "      <td>10131227</td>\n",
       "      <td>7.0</td>\n",
       "      <td>7.0</td>\n",
       "      <td>NaN</td>\n",
       "      <td>NaN</td>\n",
       "      <td>12.0</td>\n",
       "      <td>NaN</td>\n",
       "    </tr>\n",
       "    <tr>\n",
       "      <th>9</th>\n",
       "      <td>10136878</td>\n",
       "      <td>NaN</td>\n",
       "      <td>5.0</td>\n",
       "      <td>10.0</td>\n",
       "      <td>0.0</td>\n",
       "      <td>10.0</td>\n",
       "      <td>NaN</td>\n",
       "    </tr>\n",
       "  </tbody>\n",
       "</table>\n",
       "</div>"
      ],
      "text/plain": [
       "        ehr  pregnancy  birth  caesarean  abort  menarche_age  menopause_age\n",
       "0  10011773       -8.0    0.0        NaN    0.0           NaN           71.0\n",
       "1  10030299        3.0    NaN        0.0    0.0           NaN            NaN\n",
       "2  10030824        0.0    0.0        0.0    NaN           NaN           44.0\n",
       "3  10053435        2.0    NaN        0.0    1.0          21.0           74.0\n",
       "4  10111454        0.0   -6.0        NaN    0.0          16.0           55.0\n",
       "5  10115313        2.0    0.0        0.0    2.0          18.0           44.0\n",
       "6  10119160        1.0    1.0        0.0    0.0          15.0           48.0\n",
       "7  10128601        3.0    NaN        0.0    0.0          14.0           53.0\n",
       "8  10131227        7.0    7.0        NaN    NaN          12.0            NaN\n",
       "9  10136878        NaN    5.0       10.0    0.0          10.0            NaN"
      ]
     },
     "metadata": {},
     "output_type": "display_data"
    }
   ],
   "source": [
    "gino = pd.read_excel('../data/raw/gynecological.xlsx', index_col = 0)\n",
    "print(\"Dimensión Datos Ginecológicos:\", gino.shape[0])\n",
    "display(gino.head(n = 10))"
   ]
  },
  {
   "cell_type": "code",
   "execution_count": 8,
   "metadata": {},
   "outputs": [],
   "source": [
    "def impute_births(row):\n",
    "    \n",
    "    cols =  ['pregnancy', 'birth', 'caesarean', 'abort']\n",
    "\n",
    "    row_data = row.values.tolist()\n",
    "    nulls = row.isna().tolist()\n",
    "    nnull = sum(nulls)\n",
    "\n",
    "    if row[0] == 0:\n",
    "        row[1:] = [0, 0, 0] # No hay embarazos, por tanto no nada en el resto\n",
    "        return row\n",
    "\n",
    "    # inconsistencia\n",
    "    if row[0] < np.nansum(row[1:]): # Embarazos < Cesareas + Nacimientos + Aborto\n",
    "        return pd.Series([np.nan, np.nan, np.nan, np.nan], index = row.index)\n",
    "\n",
    "    if nnull == 1:\n",
    "        if nulls[0]: # Falta solamente el número de embarazos\n",
    "            row[0] = sum(row_data[1:3])\n",
    "        else: # Falta imputar el número de un tipo de resultado de un embarazo\n",
    "            missing = np.where(nulls)[0][0]\n",
    "            row[missing] = row_data[0] - np.nansum(row.values[1:])\n",
    "\n",
    "    elif nnull == 2 and not nulls[0]:\n",
    "        not_missing = np.where(np.logical_not(nulls[1:]))[0][0] + 1\n",
    "        if row[not_missing] == row[0]: \n",
    "            row[1:] = [0, 0, 0]\n",
    "            row[not_missing] = row[0]\n",
    "\n",
    "\n",
    "    return row\n",
    "\n",
    "for col in ['pregnancy', 'birth', 'caesarean', 'abort']: gino.loc[gino[col] < 0, col] = np.nan\n",
    "det = gino[['pregnancy', 'birth', 'caesarean', 'abort']].apply(impute_births, axis = 1)"
   ]
  },
  {
   "cell_type": "code",
   "execution_count": 9,
   "metadata": {},
   "outputs": [
    {
     "data": {
      "text/plain": [
       "0       NaN\n",
       "1       0.0\n",
       "2       0.0\n",
       "3       0.0\n",
       "4       0.0\n",
       "       ... \n",
       "7681   -2.0\n",
       "7682   -2.0\n",
       "7683   -3.0\n",
       "7684   -3.0\n",
       "7685    0.0\n",
       "Name: pregnancy, Length: 7686, dtype: float64"
      ]
     },
     "execution_count": 9,
     "metadata": {},
     "output_type": "execute_result"
    }
   ],
   "source": [
    "gino['pregnancy'] - np.nansum(gino.iloc[:, 1:4].values, axis = 1)"
   ]
  },
  {
   "cell_type": "code",
   "execution_count": 10,
   "metadata": {},
   "outputs": [
    {
     "data": {
      "text/plain": [
       "5.0"
      ]
     },
     "execution_count": 10,
     "metadata": {},
     "output_type": "execute_result"
    }
   ],
   "source": [
    "x = pd.Series(np.arange(0, 4, dtype = np.float64), index = list(\"abcd\"))\n",
    "x[1] = np.nan\n",
    "np.sum(x)"
   ]
  },
  {
   "cell_type": "code",
   "execution_count": null,
   "metadata": {},
   "outputs": [],
   "source": []
  },
  {
   "cell_type": "code",
   "execution_count": 11,
   "metadata": {},
   "outputs": [
    {
     "ename": "DatabaseError",
     "evalue": "2003 (HY000): Can't connect to MySQL server on '127.0.0.1:3306' (10061)",
     "output_type": "error",
     "traceback": [
      "\u001b[1;31m---------------------------------------------------------------------------\u001b[0m",
      "\u001b[1;31mMySQLInterfaceError\u001b[0m                       Traceback (most recent call last)",
      "File \u001b[1;32mc:\\Users\\ruben\\anaconda3\\envs\\min-data\\lib\\site-packages\\mysql\\connector\\connection_cext.py:308\u001b[0m, in \u001b[0;36mCMySQLConnection._open_connection\u001b[1;34m(self)\u001b[0m\n\u001b[0;32m    307\u001b[0m \u001b[38;5;28;01mtry\u001b[39;00m:\n\u001b[1;32m--> 308\u001b[0m     \u001b[38;5;28;43mself\u001b[39;49m\u001b[38;5;241;43m.\u001b[39;49m\u001b[43m_cmysql\u001b[49m\u001b[38;5;241;43m.\u001b[39;49m\u001b[43mconnect\u001b[49m\u001b[43m(\u001b[49m\u001b[38;5;241;43m*\u001b[39;49m\u001b[38;5;241;43m*\u001b[39;49m\u001b[43mcnx_kwargs\u001b[49m\u001b[43m)\u001b[49m\n\u001b[0;32m    309\u001b[0m     \u001b[38;5;28mself\u001b[39m\u001b[38;5;241m.\u001b[39m_cmysql\u001b[38;5;241m.\u001b[39mconverter_str_fallback \u001b[38;5;241m=\u001b[39m \u001b[38;5;28mself\u001b[39m\u001b[38;5;241m.\u001b[39m_converter_str_fallback\n",
      "\u001b[1;31mMySQLInterfaceError\u001b[0m: Can't connect to MySQL server on '127.0.0.1:3306' (10061)",
      "\nThe above exception was the direct cause of the following exception:\n",
      "\u001b[1;31mDatabaseError\u001b[0m                             Traceback (most recent call last)",
      "Cell \u001b[1;32mIn [11], line 12\u001b[0m\n\u001b[0;32m      8\u001b[0m     conn\u001b[38;5;241m.\u001b[39mclose()\n\u001b[0;32m     10\u001b[0m     \u001b[38;5;28;01mreturn\u001b[39;00m data\n\u001b[1;32m---> 12\u001b[0m tumor \u001b[38;5;241m=\u001b[39m read_tumor_data()\n\u001b[0;32m     13\u001b[0m \u001b[38;5;28mprint\u001b[39m(\u001b[38;5;124m\"\u001b[39m\u001b[38;5;124mTamaño: \u001b[39m\u001b[38;5;124m\"\u001b[39m, tumor\u001b[38;5;241m.\u001b[39mshape)\n\u001b[0;32m     14\u001b[0m tumor\u001b[38;5;241m.\u001b[39mhead()\n",
      "Cell \u001b[1;32mIn [11], line 2\u001b[0m, in \u001b[0;36mread_tumor_data\u001b[1;34m()\u001b[0m\n\u001b[0;32m      1\u001b[0m \u001b[38;5;28;01mdef\u001b[39;00m \u001b[38;5;21mread_tumor_data\u001b[39m():\n\u001b[1;32m----> 2\u001b[0m     conn \u001b[38;5;241m=\u001b[39m \u001b[43mconnect\u001b[49m\u001b[43m(\u001b[49m\u001b[43muser\u001b[49m\u001b[43m \u001b[49m\u001b[38;5;241;43m=\u001b[39;49m\u001b[43m \u001b[49m\u001b[43mos\u001b[49m\u001b[38;5;241;43m.\u001b[39;49m\u001b[43menviron\u001b[49m\u001b[38;5;241;43m.\u001b[39;49m\u001b[43mget\u001b[49m\u001b[43m(\u001b[49m\u001b[38;5;124;43m'\u001b[39;49m\u001b[38;5;124;43mPCD_DB_USR\u001b[39;49m\u001b[38;5;124;43m'\u001b[39;49m\u001b[43m)\u001b[49m\u001b[43m,\u001b[49m\u001b[43m \u001b[49m\n\u001b[0;32m      3\u001b[0m \u001b[43m                   \u001b[49m\u001b[43mpassword\u001b[49m\u001b[43m \u001b[49m\u001b[38;5;241;43m=\u001b[39;49m\u001b[43m \u001b[49m\u001b[43mos\u001b[49m\u001b[38;5;241;43m.\u001b[39;49m\u001b[43menviron\u001b[49m\u001b[38;5;241;43m.\u001b[39;49m\u001b[43mget\u001b[49m\u001b[43m(\u001b[49m\u001b[38;5;124;43m'\u001b[39;49m\u001b[38;5;124;43mPCD_DB_PWD\u001b[39;49m\u001b[38;5;124;43m'\u001b[39;49m\u001b[43m)\u001b[49m\u001b[43m,\u001b[49m\u001b[43m \u001b[49m\n\u001b[0;32m      4\u001b[0m \u001b[43m                   \u001b[49m\u001b[43mhost\u001b[49m\u001b[43m \u001b[49m\u001b[38;5;241;43m=\u001b[39;49m\u001b[43m \u001b[49m\u001b[38;5;124;43m'\u001b[39;49m\u001b[38;5;124;43m127.0.0.1\u001b[39;49m\u001b[38;5;124;43m'\u001b[39;49m\u001b[43m,\u001b[49m\u001b[43m \u001b[49m\u001b[43mport\u001b[49m\u001b[43m \u001b[49m\u001b[38;5;241;43m=\u001b[39;49m\u001b[43m \u001b[49m\u001b[38;5;241;43m3306\u001b[39;49m\u001b[43m,\u001b[49m\u001b[43m \u001b[49m\n\u001b[0;32m      5\u001b[0m \u001b[43m                   \u001b[49m\u001b[43mdatabase\u001b[49m\u001b[43m \u001b[49m\u001b[38;5;241;43m=\u001b[39;49m\u001b[43m \u001b[49m\u001b[38;5;124;43m'\u001b[39;49m\u001b[38;5;124;43mtumordb\u001b[39;49m\u001b[38;5;124;43m'\u001b[39;49m\n\u001b[0;32m      6\u001b[0m \u001b[43m                    \u001b[49m\u001b[43m)\u001b[49m\n\u001b[0;32m      7\u001b[0m     data \u001b[38;5;241m=\u001b[39m pd\u001b[38;5;241m.\u001b[39mread_sql(\u001b[38;5;124m\"\u001b[39m\u001b[38;5;124mSELECT * FROM tumor;\u001b[39m\u001b[38;5;124m\"\u001b[39m, conn)\n\u001b[0;32m      8\u001b[0m     conn\u001b[38;5;241m.\u001b[39mclose()\n",
      "File \u001b[1;32mc:\\Users\\ruben\\anaconda3\\envs\\min-data\\lib\\site-packages\\mysql\\connector\\pooling.py:293\u001b[0m, in \u001b[0;36mconnect\u001b[1;34m(*args, **kwargs)\u001b[0m\n\u001b[0;32m    290\u001b[0m         \u001b[38;5;28;01mraise\u001b[39;00m \u001b[38;5;167;01mImportError\u001b[39;00m(ERROR_NO_CEXT)\n\u001b[0;32m    292\u001b[0m \u001b[38;5;28;01mif\u001b[39;00m CMySQLConnection \u001b[38;5;129;01mand\u001b[39;00m \u001b[38;5;129;01mnot\u001b[39;00m use_pure:\n\u001b[1;32m--> 293\u001b[0m     \u001b[38;5;28;01mreturn\u001b[39;00m \u001b[43mCMySQLConnection\u001b[49m\u001b[43m(\u001b[49m\u001b[38;5;241;43m*\u001b[39;49m\u001b[43margs\u001b[49m\u001b[43m,\u001b[49m\u001b[43m \u001b[49m\u001b[38;5;241;43m*\u001b[39;49m\u001b[38;5;241;43m*\u001b[39;49m\u001b[43mkwargs\u001b[49m\u001b[43m)\u001b[49m\n\u001b[0;32m    294\u001b[0m \u001b[38;5;28;01mreturn\u001b[39;00m MySQLConnection(\u001b[38;5;241m*\u001b[39margs, \u001b[38;5;241m*\u001b[39m\u001b[38;5;241m*\u001b[39mkwargs)\n",
      "File \u001b[1;32mc:\\Users\\ruben\\anaconda3\\envs\\min-data\\lib\\site-packages\\mysql\\connector\\connection_cext.py:129\u001b[0m, in \u001b[0;36mCMySQLConnection.__init__\u001b[1;34m(self, **kwargs)\u001b[0m\n\u001b[0;32m    127\u001b[0m \u001b[38;5;28;01mif\u001b[39;00m kwargs:\n\u001b[0;32m    128\u001b[0m     \u001b[38;5;28;01mtry\u001b[39;00m:\n\u001b[1;32m--> 129\u001b[0m         \u001b[38;5;28;43mself\u001b[39;49m\u001b[38;5;241;43m.\u001b[39;49m\u001b[43mconnect\u001b[49m\u001b[43m(\u001b[49m\u001b[38;5;241;43m*\u001b[39;49m\u001b[38;5;241;43m*\u001b[39;49m\u001b[43mkwargs\u001b[49m\u001b[43m)\u001b[49m\n\u001b[0;32m    130\u001b[0m     \u001b[38;5;28;01mexcept\u001b[39;00m \u001b[38;5;167;01mException\u001b[39;00m:\n\u001b[0;32m    131\u001b[0m         \u001b[38;5;28mself\u001b[39m\u001b[38;5;241m.\u001b[39mclose()\n",
      "File \u001b[1;32mc:\\Users\\ruben\\anaconda3\\envs\\min-data\\lib\\site-packages\\mysql\\connector\\abstracts.py:1237\u001b[0m, in \u001b[0;36mMySQLConnectionAbstract.connect\u001b[1;34m(self, **kwargs)\u001b[0m\n\u001b[0;32m   1234\u001b[0m     \u001b[38;5;28mself\u001b[39m\u001b[38;5;241m.\u001b[39mconfig(\u001b[38;5;241m*\u001b[39m\u001b[38;5;241m*\u001b[39mkwargs)\n\u001b[0;32m   1236\u001b[0m \u001b[38;5;28mself\u001b[39m\u001b[38;5;241m.\u001b[39mdisconnect()\n\u001b[1;32m-> 1237\u001b[0m \u001b[38;5;28;43mself\u001b[39;49m\u001b[38;5;241;43m.\u001b[39;49m\u001b[43m_open_connection\u001b[49m\u001b[43m(\u001b[49m\u001b[43m)\u001b[49m\n\u001b[0;32m   1239\u001b[0m charset, collation \u001b[38;5;241m=\u001b[39m (\n\u001b[0;32m   1240\u001b[0m     kwargs\u001b[38;5;241m.\u001b[39mpop(\u001b[38;5;124m\"\u001b[39m\u001b[38;5;124mcharset\u001b[39m\u001b[38;5;124m\"\u001b[39m, \u001b[38;5;28;01mNone\u001b[39;00m),\n\u001b[0;32m   1241\u001b[0m     kwargs\u001b[38;5;241m.\u001b[39mpop(\u001b[38;5;124m\"\u001b[39m\u001b[38;5;124mcollation\u001b[39m\u001b[38;5;124m\"\u001b[39m, \u001b[38;5;28;01mNone\u001b[39;00m),\n\u001b[0;32m   1242\u001b[0m )\n\u001b[0;32m   1243\u001b[0m \u001b[38;5;28;01mif\u001b[39;00m charset \u001b[38;5;129;01mor\u001b[39;00m collation:\n",
      "File \u001b[1;32mc:\\Users\\ruben\\anaconda3\\envs\\min-data\\lib\\site-packages\\mysql\\connector\\connection_cext.py:313\u001b[0m, in \u001b[0;36mCMySQLConnection._open_connection\u001b[1;34m(self)\u001b[0m\n\u001b[0;32m    311\u001b[0m         \u001b[38;5;28mself\u001b[39m\u001b[38;5;241m.\u001b[39mconverter\u001b[38;5;241m.\u001b[39mstr_fallback \u001b[38;5;241m=\u001b[39m \u001b[38;5;28mself\u001b[39m\u001b[38;5;241m.\u001b[39m_converter_str_fallback\n\u001b[0;32m    312\u001b[0m \u001b[38;5;28;01mexcept\u001b[39;00m MySQLInterfaceError \u001b[38;5;28;01mas\u001b[39;00m err:\n\u001b[1;32m--> 313\u001b[0m     \u001b[38;5;28;01mraise\u001b[39;00m get_mysql_exception(\n\u001b[0;32m    314\u001b[0m         msg\u001b[38;5;241m=\u001b[39merr\u001b[38;5;241m.\u001b[39mmsg, errno\u001b[38;5;241m=\u001b[39merr\u001b[38;5;241m.\u001b[39merrno, sqlstate\u001b[38;5;241m=\u001b[39merr\u001b[38;5;241m.\u001b[39msqlstate\n\u001b[0;32m    315\u001b[0m     ) \u001b[38;5;28;01mfrom\u001b[39;00m \u001b[38;5;21;01merr\u001b[39;00m\n\u001b[0;32m    317\u001b[0m \u001b[38;5;28mself\u001b[39m\u001b[38;5;241m.\u001b[39m_do_handshake()\n",
      "\u001b[1;31mDatabaseError\u001b[0m: 2003 (HY000): Can't connect to MySQL server on '127.0.0.1:3306' (10061)"
     ]
    }
   ],
   "source": [
    "def read_tumor_data():\n",
    "    conn = connect(user = os.environ.get('PCD_DB_USR'), \n",
    "                   password = os.environ.get('PCD_DB_PWD'), \n",
    "                   host = '127.0.0.1', port = 3306, \n",
    "                   database = 'tumordb'\n",
    "                    )\n",
    "    data = pd.read_sql(\"SELECT * FROM tumor;\", conn)\n",
    "    conn.close()\n",
    "\n",
    "    return data\n",
    "\n",
    "tumor = read_tumor_data()\n",
    "print(\"Tamaño: \", tumor.shape)\n",
    "tumor.head()\n"
   ]
  },
  {
   "cell_type": "code",
   "execution_count": null,
   "metadata": {},
   "outputs": [
    {
     "name": "stdout",
     "output_type": "stream",
     "text": [
      "Tamaño:  (10000, 5)\n"
     ]
    },
    {
     "data": {
      "text/html": [
       "<div>\n",
       "<style scoped>\n",
       "    .dataframe tbody tr th:only-of-type {\n",
       "        vertical-align: middle;\n",
       "    }\n",
       "\n",
       "    .dataframe tbody tr th {\n",
       "        vertical-align: top;\n",
       "    }\n",
       "\n",
       "    .dataframe thead th {\n",
       "        text-align: right;\n",
       "    }\n",
       "</style>\n",
       "<table border=\"1\" class=\"dataframe\">\n",
       "  <thead>\n",
       "    <tr style=\"text-align: right;\">\n",
       "      <th></th>\n",
       "      <th>ehr</th>\n",
       "      <th>er</th>\n",
       "      <th>her2</th>\n",
       "      <th>ki67</th>\n",
       "      <th>pr</th>\n",
       "    </tr>\n",
       "  </thead>\n",
       "  <tbody>\n",
       "    <tr>\n",
       "      <th>0</th>\n",
       "      <td>10011773</td>\n",
       "      <td>0.0</td>\n",
       "      <td>0.0</td>\n",
       "      <td>19.0</td>\n",
       "      <td>NaN</td>\n",
       "    </tr>\n",
       "    <tr>\n",
       "      <th>1</th>\n",
       "      <td>10020495</td>\n",
       "      <td>1.0</td>\n",
       "      <td>0.0</td>\n",
       "      <td>9.0</td>\n",
       "      <td>0.0</td>\n",
       "    </tr>\n",
       "    <tr>\n",
       "      <th>2</th>\n",
       "      <td>10030299</td>\n",
       "      <td>1.0</td>\n",
       "      <td>NaN</td>\n",
       "      <td>18.0</td>\n",
       "      <td>1.0</td>\n",
       "    </tr>\n",
       "    <tr>\n",
       "      <th>3</th>\n",
       "      <td>10030824</td>\n",
       "      <td>1.0</td>\n",
       "      <td>0.0</td>\n",
       "      <td>NaN</td>\n",
       "      <td>1.0</td>\n",
       "    </tr>\n",
       "    <tr>\n",
       "      <th>4</th>\n",
       "      <td>10041592</td>\n",
       "      <td>0.0</td>\n",
       "      <td>0.0</td>\n",
       "      <td>65.0</td>\n",
       "      <td>0.0</td>\n",
       "    </tr>\n",
       "  </tbody>\n",
       "</table>\n",
       "</div>"
      ],
      "text/plain": [
       "        ehr   er  her2  ki67   pr\n",
       "0  10011773  0.0   0.0  19.0  NaN\n",
       "1  10020495  1.0   0.0   9.0  0.0\n",
       "2  10030299  1.0   NaN  18.0  1.0\n",
       "3  10030824  1.0   0.0   NaN  1.0\n",
       "4  10041592  0.0   0.0  65.0  0.0"
      ]
     },
     "metadata": {},
     "output_type": "display_data"
    },
    {
     "name": "stdout",
     "output_type": "stream",
     "text": [
      "<class 'pandas.core.frame.DataFrame'>\n",
      "RangeIndex: 10000 entries, 0 to 9999\n",
      "Data columns (total 5 columns):\n",
      " #   Column  Non-Null Count  Dtype  \n",
      "---  ------  --------------  -----  \n",
      " 0   ehr     10000 non-null  int64  \n",
      " 1   er      9042 non-null   float64\n",
      " 2   her2    9006 non-null   float64\n",
      " 3   ki67    9032 non-null   float64\n",
      " 4   pr      9018 non-null   float64\n",
      "dtypes: float64(4), int64(1)\n",
      "memory usage: 390.8 KB\n"
     ]
    }
   ],
   "source": [
    "chemis = pd.read_json('../data/raw/histochemistry.json')\n",
    "print(\"Tamaño: \", chemis.shape)\n",
    "\n",
    "display(chemis.head())\n",
    "\n",
    "chemis.info()\n"
   ]
  }
 ],
 "metadata": {
  "kernelspec": {
   "display_name": "min-data",
   "language": "python",
   "name": "python3"
  },
  "language_info": {
   "codemirror_mode": {
    "name": "ipython",
    "version": 3
   },
   "file_extension": ".py",
   "mimetype": "text/x-python",
   "name": "python",
   "nbconvert_exporter": "python",
   "pygments_lexer": "ipython3",
   "version": "3.8.13"
  }
 },
 "nbformat": 4,
 "nbformat_minor": 2
}
